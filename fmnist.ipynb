{
 "cells": [
  {
   "cell_type": "code",
   "execution_count": 1,
   "metadata": {},
   "outputs": [
    {
     "name": "stderr",
     "output_type": "stream",
     "text": [
      "Using TensorFlow backend.\n"
     ]
    }
   ],
   "source": [
    "import keras\n",
    "from keras.models import Sequential\n",
    "from keras.layers import Conv2D, MaxPooling2D, Dense, Flatten, Dropout\n",
    "\n",
    "\n",
    "\n",
    "import numpy as np\n",
    "import pandas as pd\n",
    "import matplotlib.pyplot as plt\n",
    "from sklearn.model_selection import train_test_split"
   ]
  },
  {
   "cell_type": "code",
   "execution_count": 2,
   "metadata": {},
   "outputs": [
    {
     "data": {
      "text/html": [
       "<div>\n",
       "<style scoped>\n",
       "    .dataframe tbody tr th:only-of-type {\n",
       "        vertical-align: middle;\n",
       "    }\n",
       "\n",
       "    .dataframe tbody tr th {\n",
       "        vertical-align: top;\n",
       "    }\n",
       "\n",
       "    .dataframe thead th {\n",
       "        text-align: right;\n",
       "    }\n",
       "</style>\n",
       "<table border=\"1\" class=\"dataframe\">\n",
       "  <thead>\n",
       "    <tr style=\"text-align: right;\">\n",
       "      <th></th>\n",
       "      <th>label</th>\n",
       "      <th>pixel1</th>\n",
       "      <th>pixel2</th>\n",
       "      <th>pixel3</th>\n",
       "      <th>pixel4</th>\n",
       "      <th>pixel5</th>\n",
       "      <th>pixel6</th>\n",
       "      <th>pixel7</th>\n",
       "      <th>pixel8</th>\n",
       "      <th>pixel9</th>\n",
       "      <th>...</th>\n",
       "      <th>pixel775</th>\n",
       "      <th>pixel776</th>\n",
       "      <th>pixel777</th>\n",
       "      <th>pixel778</th>\n",
       "      <th>pixel779</th>\n",
       "      <th>pixel780</th>\n",
       "      <th>pixel781</th>\n",
       "      <th>pixel782</th>\n",
       "      <th>pixel783</th>\n",
       "      <th>pixel784</th>\n",
       "    </tr>\n",
       "  </thead>\n",
       "  <tbody>\n",
       "    <tr>\n",
       "      <th>0</th>\n",
       "      <td>2</td>\n",
       "      <td>0</td>\n",
       "      <td>0</td>\n",
       "      <td>0</td>\n",
       "      <td>0</td>\n",
       "      <td>0</td>\n",
       "      <td>0</td>\n",
       "      <td>0</td>\n",
       "      <td>0</td>\n",
       "      <td>0</td>\n",
       "      <td>...</td>\n",
       "      <td>0</td>\n",
       "      <td>0</td>\n",
       "      <td>0</td>\n",
       "      <td>0</td>\n",
       "      <td>0</td>\n",
       "      <td>0</td>\n",
       "      <td>0</td>\n",
       "      <td>0</td>\n",
       "      <td>0</td>\n",
       "      <td>0</td>\n",
       "    </tr>\n",
       "    <tr>\n",
       "      <th>1</th>\n",
       "      <td>9</td>\n",
       "      <td>0</td>\n",
       "      <td>0</td>\n",
       "      <td>0</td>\n",
       "      <td>0</td>\n",
       "      <td>0</td>\n",
       "      <td>0</td>\n",
       "      <td>0</td>\n",
       "      <td>0</td>\n",
       "      <td>0</td>\n",
       "      <td>...</td>\n",
       "      <td>0</td>\n",
       "      <td>0</td>\n",
       "      <td>0</td>\n",
       "      <td>0</td>\n",
       "      <td>0</td>\n",
       "      <td>0</td>\n",
       "      <td>0</td>\n",
       "      <td>0</td>\n",
       "      <td>0</td>\n",
       "      <td>0</td>\n",
       "    </tr>\n",
       "    <tr>\n",
       "      <th>2</th>\n",
       "      <td>6</td>\n",
       "      <td>0</td>\n",
       "      <td>0</td>\n",
       "      <td>0</td>\n",
       "      <td>0</td>\n",
       "      <td>0</td>\n",
       "      <td>0</td>\n",
       "      <td>0</td>\n",
       "      <td>5</td>\n",
       "      <td>0</td>\n",
       "      <td>...</td>\n",
       "      <td>0</td>\n",
       "      <td>0</td>\n",
       "      <td>0</td>\n",
       "      <td>30</td>\n",
       "      <td>43</td>\n",
       "      <td>0</td>\n",
       "      <td>0</td>\n",
       "      <td>0</td>\n",
       "      <td>0</td>\n",
       "      <td>0</td>\n",
       "    </tr>\n",
       "    <tr>\n",
       "      <th>3</th>\n",
       "      <td>0</td>\n",
       "      <td>0</td>\n",
       "      <td>0</td>\n",
       "      <td>0</td>\n",
       "      <td>1</td>\n",
       "      <td>2</td>\n",
       "      <td>0</td>\n",
       "      <td>0</td>\n",
       "      <td>0</td>\n",
       "      <td>0</td>\n",
       "      <td>...</td>\n",
       "      <td>3</td>\n",
       "      <td>0</td>\n",
       "      <td>0</td>\n",
       "      <td>0</td>\n",
       "      <td>0</td>\n",
       "      <td>1</td>\n",
       "      <td>0</td>\n",
       "      <td>0</td>\n",
       "      <td>0</td>\n",
       "      <td>0</td>\n",
       "    </tr>\n",
       "    <tr>\n",
       "      <th>4</th>\n",
       "      <td>3</td>\n",
       "      <td>0</td>\n",
       "      <td>0</td>\n",
       "      <td>0</td>\n",
       "      <td>0</td>\n",
       "      <td>0</td>\n",
       "      <td>0</td>\n",
       "      <td>0</td>\n",
       "      <td>0</td>\n",
       "      <td>0</td>\n",
       "      <td>...</td>\n",
       "      <td>0</td>\n",
       "      <td>0</td>\n",
       "      <td>0</td>\n",
       "      <td>0</td>\n",
       "      <td>0</td>\n",
       "      <td>0</td>\n",
       "      <td>0</td>\n",
       "      <td>0</td>\n",
       "      <td>0</td>\n",
       "      <td>0</td>\n",
       "    </tr>\n",
       "  </tbody>\n",
       "</table>\n",
       "<p>5 rows × 785 columns</p>\n",
       "</div>"
      ],
      "text/plain": [
       "   label  pixel1  pixel2  pixel3  pixel4  pixel5  pixel6  pixel7  pixel8  \\\n",
       "0      2       0       0       0       0       0       0       0       0   \n",
       "1      9       0       0       0       0       0       0       0       0   \n",
       "2      6       0       0       0       0       0       0       0       5   \n",
       "3      0       0       0       0       1       2       0       0       0   \n",
       "4      3       0       0       0       0       0       0       0       0   \n",
       "\n",
       "   pixel9  ...  pixel775  pixel776  pixel777  pixel778  pixel779  pixel780  \\\n",
       "0       0  ...         0         0         0         0         0         0   \n",
       "1       0  ...         0         0         0         0         0         0   \n",
       "2       0  ...         0         0         0        30        43         0   \n",
       "3       0  ...         3         0         0         0         0         1   \n",
       "4       0  ...         0         0         0         0         0         0   \n",
       "\n",
       "   pixel781  pixel782  pixel783  pixel784  \n",
       "0         0         0         0         0  \n",
       "1         0         0         0         0  \n",
       "2         0         0         0         0  \n",
       "3         0         0         0         0  \n",
       "4         0         0         0         0  \n",
       "\n",
       "[5 rows x 785 columns]"
      ]
     },
     "execution_count": 2,
     "metadata": {},
     "output_type": "execute_result"
    }
   ],
   "source": [
    "train_df = pd.read_csv(r'fashion-mnist_train.csv')\n",
    "test_df = pd.read_csv(r'fashion-mnist_test.csv')\n",
    "\n",
    "train_df.head()"
   ]
  },
  {
   "cell_type": "code",
   "execution_count": 3,
   "metadata": {},
   "outputs": [],
   "source": [
    "# split the training and testing data into X (image) and Y (label) arrays\n",
    "\n",
    "train_data = np.array(train_df, dtype='float32')\n",
    "test_data = np.array(test_df, dtype='float32')\n",
    "\n",
    "x_train = train_data[:, 1:] / 255\n",
    "y_train = train_data[:, 0]\n",
    "x_test = test_data[:, 1:] / 255\n",
    "y_test = test_data[:, 0]"
   ]
  },
  {
   "cell_type": "code",
   "execution_count": 4,
   "metadata": {},
   "outputs": [],
   "source": [
    "# split the training data into train and validate arrays (will be used later)\n",
    "\n",
    "x_train, x_validate, y_train, y_validate = train_test_split(\n",
    "    x_train, y_train, test_size=0.2, random_state=12345,\n",
    ")"
   ]
  },
  {
   "cell_type": "code",
   "execution_count": 5,
   "metadata": {},
   "outputs": [
    {
     "data": {
      "image/png": "[encoded data removed]",
      "text/plain": [
       "<Figure size 432x288 with 1 Axes>"
      ]
     },
     "metadata": {
      "needs_background": "light"
     },
     "output_type": "display_data"
    }
   ],
   "source": [
    "# lets see what the images look like\n",
    "\n",
    "image = x_train[5, :].reshape((28, 28))\n",
    "\n",
    "plt.imshow(image)\n",
    "plt.show()"
   ]
  },
  {
   "cell_type": "code",
   "execution_count": 6,
   "metadata": {},
   "outputs": [
    {
     "name": "stdout",
     "output_type": "stream",
     "text": [
      "x_train shape: (48000, 28, 28, 1)\n",
      "x_test shape: (10000, 28, 28, 1)\n",
      "x_validate shape: (12000, 28, 28, 1)\n"
     ]
    }
   ],
   "source": [
    "im_rows = 28\n",
    "im_cols = 28\n",
    "batch_size = 512\n",
    "im_shape = (im_rows, im_cols, 1)\n",
    "\n",
    "x_train = x_train.reshape(x_train.shape[0], *im_shape)\n",
    "x_test = x_test.reshape(x_test.shape[0], *im_shape)\n",
    "x_validate = x_validate.reshape(x_validate.shape[0], *im_shape)\n",
    "\n",
    "print('x_train shape: {}'.format(x_train.shape))\n",
    "print('x_test shape: {}'.format(x_test.shape))\n",
    "print('x_validate shape: {}'.format(x_validate.shape))"
   ]
  },
  {
   "cell_type": "code",
   "execution_count": 11,
   "metadata": {},
   "outputs": [
    {
     "name": "stdout",
     "output_type": "stream",
     "text": [
      "Model: \"sequential_2\"\n",
      "_________________________________________________________________\n",
      "Layer (type)                 Output Shape              Param #   \n",
      "=================================================================\n",
      "Conv2D-1 (Conv2D)            (None, 26, 26, 32)        320       \n",
      "_________________________________________________________________\n",
      "MaxPool (MaxPooling2D)       (None, 13, 13, 32)        0         \n",
      "_________________________________________________________________\n",
      "Dropout-1 (Dropout)          (None, 13, 13, 32)        0         \n",
      "_________________________________________________________________\n",
      "Conv2D-2 (Conv2D)            (None, 11, 11, 64)        18496     \n",
      "_________________________________________________________________\n",
      "Dropout-2 (Dropout)          (None, 11, 11, 64)        0         \n",
      "_________________________________________________________________\n",
      "Conv2D-3 (Conv2D)            (None, 9, 9, 128)         73856     \n",
      "_________________________________________________________________\n",
      "Dropout-3 (Dropout)          (None, 9, 9, 128)         0         \n",
      "_________________________________________________________________\n",
      "flatten (Flatten)            (None, 10368)             0         \n",
      "_________________________________________________________________\n",
      "Dense (Dense)                (None, 128)               1327232   \n",
      "_________________________________________________________________\n",
      "Dropout (Dropout)            (None, 128)               0         \n",
      "_________________________________________________________________\n",
      "Output (Dense)               (None, 10)                1290      \n",
      "=================================================================\n",
      "Total params: 1,421,194\n",
      "Trainable params: 1,421,194\n",
      "Non-trainable params: 0\n",
      "_________________________________________________________________\n"
     ]
    }
   ],
   "source": [
    "cnn_model= Sequential([\n",
    "    Conv2D(32, kernel_size=3, activation='relu', \n",
    "           input_shape=im_shape, kernel_initializer='he_normal', name='Conv2D-1'),\n",
    "    MaxPooling2D(pool_size=2, name='MaxPool'),\n",
    "    Dropout(0.25, name='Dropout-1'),\n",
    "    Conv2D(64, kernel_size=3, activation='relu', name='Conv2D-2'),\n",
    "    Dropout(0.25, name='Dropout-2'),\n",
    "    Conv2D(128, kernel_size=3, activation='relu', name='Conv2D-3'),\n",
    "    Dropout(0.4, name='Dropout-3'),\n",
    "    Flatten(name='flatten'),\n",
    "    Dense(128, activation='relu', name='Dense'),\n",
    "    Dropout(0.4, name='Dropout'),\n",
    "    Dense(10, activation='softmax', name='Output')\n",
    "])\n",
    "cnn_model.summary()"
   ]
  },
  {
   "cell_type": "code",
   "execution_count": 12,
   "metadata": {},
   "outputs": [],
   "source": [
    "cnn_model.compile(\n",
    "    loss='sparse_categorical_crossentropy',\n",
    "    optimizer='adam',\n",
    "    metrics=['accuracy']\n",
    ")"
   ]
  },
  {
   "cell_type": "code",
   "execution_count": 13,
   "metadata": {
    "scrolled": false
   },
   "outputs": [
    {
     "name": "stdout",
     "output_type": "stream",
     "text": [
      "Train on 48000 samples, validate on 12000 samples\n",
      "Epoch 1/50\n",
      "48000/48000 [==============================] - 45s 943us/step - loss: 0.8173 - accuracy: 0.6957 - val_loss: 0.4769 - val_accuracy: 0.8183\n",
      "Epoch 2/50\n",
      "48000/48000 [==============================] - 48s 999us/step - loss: 0.4947 - accuracy: 0.8189 - val_loss: 0.3667 - val_accuracy: 0.8618\n",
      "Epoch 3/50\n",
      "48000/48000 [==============================] - 47s 990us/step - loss: 0.4216 - accuracy: 0.8459 - val_loss: 0.3217 - val_accuracy: 0.8809\n",
      "Epoch 4/50\n",
      "48000/48000 [==============================] - 52s 1ms/step - loss: 0.3808 - accuracy: 0.8631 - val_loss: 0.2991 - val_accuracy: 0.8857\n",
      "Epoch 5/50\n",
      "48000/48000 [==============================] - 49s 1ms/step - loss: 0.3497 - accuracy: 0.8718 - val_loss: 0.2829 - val_accuracy: 0.8938\n",
      "Epoch 6/50\n",
      "48000/48000 [==============================] - 64s 1ms/step - loss: 0.3293 - accuracy: 0.8806 - val_loss: 0.2745 - val_accuracy: 0.8975\n",
      "Epoch 7/50\n",
      "48000/48000 [==============================] - 48s 1ms/step - loss: 0.3166 - accuracy: 0.8852 - val_loss: 0.2641 - val_accuracy: 0.9034\n",
      "Epoch 8/50\n",
      "48000/48000 [==============================] - 49s 1ms/step - loss: 0.3000 - accuracy: 0.8902 - val_loss: 0.2517 - val_accuracy: 0.9057\n",
      "Epoch 9/50\n",
      "48000/48000 [==============================] - 48s 993us/step - loss: 0.2824 - accuracy: 0.8957 - val_loss: 0.2440 - val_accuracy: 0.9113\n",
      "Epoch 10/50\n",
      "48000/48000 [==============================] - 49s 1ms/step - loss: 0.2708 - accuracy: 0.9015 - val_loss: 0.2428 - val_accuracy: 0.9106\n",
      "Epoch 11/50\n",
      "48000/48000 [==============================] - 51s 1ms/step - loss: 0.2582 - accuracy: 0.9045 - val_loss: 0.2346 - val_accuracy: 0.9133\n",
      "Epoch 12/50\n",
      "48000/48000 [==============================] - 57s 1ms/step - loss: 0.2531 - accuracy: 0.9066 - val_loss: 0.2259 - val_accuracy: 0.9160\n",
      "Epoch 13/50\n",
      "48000/48000 [==============================] - 64s 1ms/step - loss: 0.2421 - accuracy: 0.9112 - val_loss: 0.2231 - val_accuracy: 0.9168\n",
      "Epoch 14/50\n",
      "48000/48000 [==============================] - 49s 1ms/step - loss: 0.2338 - accuracy: 0.9140 - val_loss: 0.2216 - val_accuracy: 0.9193\n",
      "Epoch 15/50\n",
      "48000/48000 [==============================] - 49s 1ms/step - loss: 0.2261 - accuracy: 0.9163 - val_loss: 0.2212 - val_accuracy: 0.9186\n",
      "Epoch 16/50\n",
      "48000/48000 [==============================] - 55s 1ms/step - loss: 0.2174 - accuracy: 0.9191 - val_loss: 0.2178 - val_accuracy: 0.9209\n",
      "Epoch 17/50\n",
      "48000/48000 [==============================] - 51s 1ms/step - loss: 0.2105 - accuracy: 0.9218 - val_loss: 0.2214 - val_accuracy: 0.9203\n",
      "Epoch 18/50\n",
      "48000/48000 [==============================] - 56s 1ms/step - loss: 0.2076 - accuracy: 0.9226 - val_loss: 0.2145 - val_accuracy: 0.9241\n",
      "Epoch 19/50\n",
      "48000/48000 [==============================] - 47s 980us/step - loss: 0.2008 - accuracy: 0.9247 - val_loss: 0.2117 - val_accuracy: 0.9236\n",
      "Epoch 20/50\n",
      "48000/48000 [==============================] - 55s 1ms/step - loss: 0.1964 - accuracy: 0.9262 - val_loss: 0.2116 - val_accuracy: 0.9227\n",
      "Epoch 21/50\n",
      "48000/48000 [==============================] - 51s 1ms/step - loss: 0.1888 - accuracy: 0.9291 - val_loss: 0.2082 - val_accuracy: 0.9238\n",
      "Epoch 22/50\n",
      "48000/48000 [==============================] - 57s 1ms/step - loss: 0.1887 - accuracy: 0.9287 - val_loss: 0.2061 - val_accuracy: 0.9228\n",
      "Epoch 23/50\n",
      "48000/48000 [==============================] - 55s 1ms/step - loss: 0.1824 - accuracy: 0.9312 - val_loss: 0.2033 - val_accuracy: 0.9265\n",
      "Epoch 24/50\n",
      "48000/48000 [==============================] - 53s 1ms/step - loss: 0.1773 - accuracy: 0.9341 - val_loss: 0.2146 - val_accuracy: 0.9259\n",
      "Epoch 25/50\n",
      "48000/48000 [==============================] - 49s 1ms/step - loss: 0.1761 - accuracy: 0.9335 - val_loss: 0.2038 - val_accuracy: 0.9287\n",
      "Epoch 26/50\n",
      "48000/48000 [==============================] - 47s 981us/step - loss: 0.1690 - accuracy: 0.9357 - val_loss: 0.2039 - val_accuracy: 0.9258\n",
      "Epoch 27/50\n",
      "48000/48000 [==============================] - 48s 994us/step - loss: 0.1688 - accuracy: 0.9357 - val_loss: 0.2056 - val_accuracy: 0.9276\n",
      "Epoch 28/50\n",
      "48000/48000 [==============================] - 49s 1ms/step - loss: 0.1623 - accuracy: 0.9382 - val_loss: 0.2061 - val_accuracy: 0.9281\n",
      "Epoch 29/50\n",
      "48000/48000 [==============================] - 48s 1ms/step - loss: 0.1564 - accuracy: 0.9406 - val_loss: 0.2092 - val_accuracy: 0.9270\n",
      "Epoch 30/50\n",
      "48000/48000 [==============================] - 48s 1ms/step - loss: 0.1556 - accuracy: 0.9421 - val_loss: 0.2111 - val_accuracy: 0.9287\n",
      "Epoch 31/50\n",
      "48000/48000 [==============================] - 48s 991us/step - loss: 0.1546 - accuracy: 0.9410 - val_loss: 0.2068 - val_accuracy: 0.9299\n",
      "Epoch 32/50\n",
      "48000/48000 [==============================] - 48s 995us/step - loss: 0.1473 - accuracy: 0.9435 - val_loss: 0.2092 - val_accuracy: 0.9302\n",
      "Epoch 33/50\n",
      "48000/48000 [==============================] - 56s 1ms/step - loss: 0.1482 - accuracy: 0.9434 - val_loss: 0.2122 - val_accuracy: 0.9277\n",
      "Epoch 34/50\n",
      "48000/48000 [==============================] - 54s 1ms/step - loss: 0.1437 - accuracy: 0.9453 - val_loss: 0.2110 - val_accuracy: 0.9297\n",
      "Epoch 35/50\n",
      "48000/48000 [==============================] - 53s 1ms/step - loss: 0.1442 - accuracy: 0.9446 - val_loss: 0.2051 - val_accuracy: 0.9295\n",
      "Epoch 36/50\n",
      "48000/48000 [==============================] - 49s 1ms/step - loss: 0.1389 - accuracy: 0.9480 - val_loss: 0.2139 - val_accuracy: 0.9307\n",
      "Epoch 37/50\n",
      "48000/48000 [==============================] - 48s 997us/step - loss: 0.1356 - accuracy: 0.9479 - val_loss: 0.2097 - val_accuracy: 0.9314\n",
      "Epoch 38/50\n",
      "48000/48000 [==============================] - 48s 1ms/step - loss: 0.1331 - accuracy: 0.9485 - val_loss: 0.2171 - val_accuracy: 0.9281\n",
      "Epoch 39/50\n",
      "48000/48000 [==============================] - 50s 1ms/step - loss: 0.1340 - accuracy: 0.9487 - val_loss: 0.2072 - val_accuracy: 0.9298\n",
      "Epoch 40/50\n",
      "48000/48000 [==============================] - 50s 1ms/step - loss: 0.1280 - accuracy: 0.9512 - val_loss: 0.2180 - val_accuracy: 0.9311\n",
      "Epoch 41/50\n",
      "48000/48000 [==============================] - 49s 1ms/step - loss: 0.1280 - accuracy: 0.9505 - val_loss: 0.2084 - val_accuracy: 0.9320\n",
      "Epoch 42/50\n",
      "48000/48000 [==============================] - 47s 985us/step - loss: 0.1232 - accuracy: 0.9527 - val_loss: 0.2192 - val_accuracy: 0.9291\n",
      "Epoch 43/50\n",
      "48000/48000 [==============================] - 50s 1ms/step - loss: 0.1242 - accuracy: 0.9519 - val_loss: 0.2218 - val_accuracy: 0.9277\n",
      "Epoch 44/50\n",
      "48000/48000 [==============================] - 48s 995us/step - loss: 0.1224 - accuracy: 0.9536 - val_loss: 0.2163 - val_accuracy: 0.9308\n",
      "Epoch 45/50\n",
      "48000/48000 [==============================] - 48s 990us/step - loss: 0.1229 - accuracy: 0.9526 - val_loss: 0.2138 - val_accuracy: 0.9298\n",
      "Epoch 46/50\n",
      "48000/48000 [==============================] - 57s 1ms/step - loss: 0.1198 - accuracy: 0.9538 - val_loss: 0.2109 - val_accuracy: 0.9310\n",
      "Epoch 47/50\n",
      "48000/48000 [==============================] - 54s 1ms/step - loss: 0.1147 - accuracy: 0.9565 - val_loss: 0.2220 - val_accuracy: 0.9316\n",
      "Epoch 48/50\n",
      "48000/48000 [==============================] - 48s 1ms/step - loss: 0.1138 - accuracy: 0.9566 - val_loss: 0.2131 - val_accuracy: 0.9320\n",
      "Epoch 49/50\n",
      "48000/48000 [==============================] - 51s 1ms/step - loss: 0.1148 - accuracy: 0.9557 - val_loss: 0.2182 - val_accuracy: 0.9297\n",
      "Epoch 50/50\n",
      "48000/48000 [==============================] - 49s 1ms/step - loss: 0.1117 - accuracy: 0.9566 - val_loss: 0.2253 - val_accuracy: 0.9319\n"
     ]
    },
    {
     "data": {
      "text/plain": [
       "<keras.callbacks.callbacks.History at 0x7fba203a3160>"
      ]
     },
     "execution_count": 13,
     "metadata": {},
     "output_type": "execute_result"
    }
   ],
   "source": [
    "from sklearn.metrics import accuracy_score\n",
    "cnn_model.fit(\n",
    "    x_train, y_train, batch_size=batch_size,\n",
    "    epochs=50, verbose=1,\n",
    "    validation_data=(x_validate, y_validate)\n",
    "    )"
   ]
  },
  {
   "cell_type": "code",
   "execution_count": 15,
   "metadata": {},
   "outputs": [],
   "source": [
    " \n",
    "  \n",
    "# Save the trained model as a pickle string. \n",
    "cnn_model.save(\"fmnist_model.h5\")\n",
    "  \n",
    "# Load the pickled model \n",
    "#knn_from_pickle = pickle.loads(saved_model) \n",
    "  \n",
    "# Use the loaded pickled model to make predictions \n",
    "#knn_from_pickle.predict(X_test) "
   ]
  },
  {
   "cell_type": "code",
   "execution_count": 17,
   "metadata": {},
   "outputs": [
    {
     "name": "stdout",
     "output_type": "stream",
     "text": [
      "test loss: 0.2082\n",
      "test acc: 93.8200\n"
     ]
    }
   ],
   "source": [
    "score = cnn_model.evaluate(x_test, y_test, verbose=0)\n",
    "\n",
    "print('test loss: {:.4f}'.format(score[0]))\n",
    "print('test acc: {:.4f}'.format(score[1]*100))"
   ]
  },
  {
   "cell_type": "code",
   "execution_count": null,
   "metadata": {},
   "outputs": [],
   "source": [
    "import keras.backend as K\n",
    "out_layer=cnn_model.layers[9].output\n",
    "output_fn= K.function([cnn_model.input],out_layer)\n",
    "o=output_fn([x_test])\n",
    "print(o.shape)"
   ]
  },
  {
   "cell_type": "code",
   "execution_count": 19,
   "metadata": {},
   "outputs": [
    {
     "data": {
      "text/plain": [
       "<tensorflow.python.training.basic_session_run_hooks.ProfilerHook at 0x7fb9fc60f160>"
      ]
     },
     "execution_count": 19,
     "metadata": {},
     "output_type": "execute_result"
    }
   ],
   "source": [
    "import os\n",
    "import numpy as np\n",
    "import pandas as pd\n",
    "import matplotlib.pyplot as plt\n",
    "\n",
    "import tensorflow as tf\n",
    "import tensorflow_datasets as tfds\n",
    "from tensorboard.plugins import projector\n",
    "import tensorflow as tf\n",
    "tf.compat.v1.disable_eager_execution()\n",
    "tf.estimator.ProfilerHook(10)"
   ]
  },
  {
   "cell_type": "code",
   "execution_count": 20,
   "metadata": {},
   "outputs": [
    {
     "name": "stdout",
     "output_type": "stream",
     "text": [
      "WARNING:tensorflow:From /usr/local/lib/python3.5/dist-packages/tensorflow/python/ops/resource_variable_ops.py:1666: calling BaseResourceVariable.__init__ (from tensorflow.python.ops.resource_variable_ops) with constraint is deprecated and will be removed in a future version.\n",
      "Instructions for updating:\n",
      "If using Keras pass *_constraint arguments to layers.\n"
     ]
    }
   ],
   "source": [
    "PATH = os.getcwd()\n",
    "\n",
    "LOG_DIR = PATH + '/log1/'\n",
    "metadata = os.path.join(LOG_DIR, 'metadata.tsv')\n",
    "\n",
    "embedding_var = tf.Variable(o, name='fmnist_embedding')\n",
    "\n",
    "\n",
    "        \n",
    "with tf.compat.v1.Session() as sess:\n",
    "    saver = tf.compat.v1.train.Saver([embedding_var])\n",
    "\n",
    "    sess.run(embedding_var.initializer)\n",
    "    saver.save(sess, os.path.join(LOG_DIR, 'model.ckpt'))\n",
    "\n",
    "    config = projector.ProjectorConfig()\n",
    "    # One can add multiple embeddings.\n",
    "    embedding = config.embeddings.add()\n",
    "    embedding.tensor_name = embedding_var.name\n",
    "    # Link this tensor to its metadata file (e.g. labels).\n",
    "    embedding.metadata_path = metadata\n",
    "    embedding.sprite.image_path = os.path.join(LOG_DIR, 'sprite.png')\n",
    "    embedding.sprite.single_image_dim.extend([28, 28])\n",
    "    # Saves a config file that TensorBoard will read during startup.\n",
    "    projector.visualize_embeddings(tf.compat.v1.summary.FileWriter(LOG_DIR), config)\n",
    "    "
   ]
  },
  {
   "cell_type": "code",
   "execution_count": 21,
   "metadata": {},
   "outputs": [
    {
     "data": {
      "image/png": "[encoded data removed]",
      "text/plain": [
       "<Figure size 432x288 with 1 Axes>"
      ]
     },
     "metadata": {
      "needs_background": "light"
     },
     "output_type": "display_data"
    }
   ],
   "source": [
    "# create the sprite image and the metadata file\n",
    "\n",
    "rows = 28\n",
    "cols = 28\n",
    "\n",
    "label = ['t_shirt', 'trouser', 'pullover', 'dress', 'coat',\n",
    "          'sandal', 'shirt', 'sneaker', 'bag', 'ankle_boot']\n",
    "\n",
    "sprite_dim = int(np.sqrt(x_test.shape[0]))\n",
    "\n",
    "sprite_image = np.ones((cols * sprite_dim, rows * sprite_dim))\n",
    "\n",
    "index = 0\n",
    "labels = []\n",
    "for i in range(sprite_dim):\n",
    "    for j in range(sprite_dim):\n",
    "        \n",
    "        labels.append(label[int(y_test[index])])\n",
    "        \n",
    "        sprite_image[\n",
    "            i * cols: (i + 1) * cols,\n",
    "            j * rows: (j + 1) * rows\n",
    "        ] = x_test[index].reshape(28, 28) * -1 + 1\n",
    "        \n",
    "        index += 1\n",
    "        \n",
    "with open(embedding.metadata_path, 'w') as meta:\n",
    "    meta.write('Index\\tLabel\\n')\n",
    "    for index, label in enumerate(labels):\n",
    "        meta.write('{}\\t{}\\n'.format(index, label))\n",
    "        \n",
    "plt.imsave(embedding.sprite.image_path, sprite_image, cmap='gray')\n",
    "plt.imshow(sprite_image, cmap='gray')\n",
    "plt.show()"
   ]
  },
  {
   "cell_type": "code",
   "execution_count": 22,
   "metadata": {},
   "outputs": [
    {
     "name": "stdout",
     "output_type": "stream",
     "text": [
      "Serving TensorBoard on localhost; to expose to the network, use a proxy or pass --bind_all\n",
      "TensorBoard 2.2.2 at http://localhost:6007/ (Press CTRL+C to quit)\n",
      "^C\n"
     ]
    }
   ],
   "source": [
    "!tensorboard --logdir=./log1/"
   ]
  },
  {
   "cell_type": "code",
   "execution_count": null,
   "metadata": {},
   "outputs": [],
   "source": []
  }
 ],
 "metadata": {
  "kernelspec": {
   "display_name": "Python 3",
   "language": "python",
   "name": "python3"
  },
  "language_info": {
   "codemirror_mode": {
    "name": "ipython",
    "version": 3
   },
   "file_extension": ".py",
   "mimetype": "text/x-python",
   "name": "python",
   "nbconvert_exporter": "python",
   "pygments_lexer": "ipython3",
   "version": "3.5.2"
  }
 },
 "nbformat": 4,
 "nbformat_minor": 2
}
